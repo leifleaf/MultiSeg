{
 "cells": [
  {
   "cell_type": "markdown",
   "metadata": {},
   "source": [
    "# Mask R-CNN (Image Segmentation) Inference\n",
    "We'll start by importing the required packages and defining some essential paths (change the paths to wherever those files are on your system)."
   ]
  },
  {
   "cell_type": "code",
   "execution_count": null,
   "metadata": {
    "collapsed": true
   },
   "outputs": [],
   "source": [
    "# external packages\n",
    "import skimage.io\n",
    "import matplotlib.pyplot as plt\n",
    "import numpy as np\n",
    "\n",
    "# mask r-cnn components\n",
    "from mrcnn.config import Config\n",
    "import mrcnn.model as modellib\n",
    "from mrcnn import utils\n",
    "from mrcnn import visualize\n",
    "\n",
    "# paths\n",
    "DATASET_PATH = '../data/wad'\n",
    "LOGS_PATH = './logs'\n",
    "\n",
    "MRCNN_MODEL_WEIGHTS = './image_seg/mask_rcnn_wad.h5'"
   ]
  },
  {
   "cell_type": "markdown",
   "metadata": {},
   "source": [
    "## Configuration & Dataset"
   ]
  },
  {
   "cell_type": "code",
   "execution_count": null,
   "metadata": {},
   "outputs": [],
   "source": [
    "from train.wad_dataset import WadConfig, WadDataset\n",
    "\n",
    "\n",
    "# WAD Configuration\n",
    "class WADInferenceConfig(WadConfig):\n",
    "    BATCH_SIZE = 1\n",
    "    IMAGES_PER_GPU = 1\n",
    "    DETECTION_MIN_CONFIDENCE = 0\n",
    "\n",
    "\n",
    "wad_config = WADInferenceConfig()\n",
    "\n",
    "# Dataset\n",
    "dataset = WadDataset()\n",
    "dataset.load_data(DATASET_PATH, 'train', use_pickle=False)\n",
    "dataset.prepare()\n",
    "\n",
    "print('Number of Images in Dataset: {}'.format(dataset.num_images))"
   ]
  },
  {
   "cell_type": "markdown",
   "metadata": {},
   "source": [
    "## Load Model"
   ]
  },
  {
   "cell_type": "code",
   "execution_count": null,
   "metadata": {},
   "outputs": [],
   "source": [
    "# Create model in inference mode\n",
    "model = modellib.MaskRCNN(mode=\"inference\", config=wad_config, model_dir=LOGS_PATH)\n",
    "\n",
    "model.load_weights(MRCNN_MODEL_WEIGHTS, by_name=True)"
   ]
  },
  {
   "cell_type": "markdown",
   "metadata": {},
   "source": [
    "## Inference"
   ]
  },
  {
   "cell_type": "code",
   "execution_count": null,
   "metadata": {},
   "outputs": [],
   "source": [
    "from train.wad_dataset import index_to_class_names\n",
    "\n",
    "# Load a random image from the dataset\n",
    "image_id = np.random.randint(0, dataset.num_images)\n",
    "image = dataset.load_image(image_id)\n",
    "gt_masks = dataset.load_mask(image_id)\n",
    "\n",
    "print(f'Running detection on image {image_id} (filename: {dataset.image_info[image_id][\"path\"]})')\n",
    "\n",
    "results = model.detect([image], verbose=1)[0]\n",
    "\n",
    "visualize.display_instances(image, results['rois'], results['masks'], results['class_ids'], \n",
    "                            index_to_class_names, results['scores'])"
   ]
  },
  {
   "cell_type": "markdown",
   "metadata": {},
   "source": [
    "## Statistics"
   ]
  },
  {
   "cell_type": "code",
   "execution_count": null,
   "metadata": {},
   "outputs": [],
   "source": [
    "# Calculate Average Precision (AP) for each image\n",
    "APs = []\n",
    "for image_id in range(dataset.num_images):\n",
    "    # Load image and ground truth data\n",
    "    image, image_meta, gt_class_id, gt_bbox, gt_mask =\\\n",
    "        modellib.load_image_gt(dataset, wad_config,\n",
    "                               image_id, use_mini_mask=False)\n",
    "    molded_images = np.expand_dims(modellib.mold_image(image, wad_config), 0)\n",
    "    \n",
    "    # Run object detection\n",
    "    results = model.detect([image], verbose=0)\n",
    "    r = results[0]\n",
    "    \n",
    "    # Compute AP\n",
    "    AP, precisions, recalls, overlaps =\\\n",
    "        utils.compute_ap(gt_bbox, gt_class_id, gt_mask,\n",
    "                         r[\"rois\"], r[\"class_ids\"], r[\"scores\"], r['masks'])\n",
    "    APs.append(AP)\n",
    "    \n",
    "    print('Image: {0:3d}\\tAP: {1:1.4f}'.format(image_id, AP))\n",
    "    \n",
    "# Calculate mAP score for dataset\n",
    "print(\"mAP: \", np.mean(APs))"
   ]
  }
 ],
 "metadata": {
  "kernelspec": {
   "display_name": "Python 2",
   "language": "python",
   "name": "python2"
  },
  "language_info": {
   "codemirror_mode": {
    "name": "ipython",
    "version": 2
   },
   "file_extension": ".py",
   "mimetype": "text/x-python",
   "name": "python",
   "nbconvert_exporter": "python",
   "pygments_lexer": "ipython2",
   "version": "2.7.6"
  }
 },
 "nbformat": 4,
 "nbformat_minor": 0
}
