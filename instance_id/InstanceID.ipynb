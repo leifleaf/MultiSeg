{
 "cells": [
  {
   "cell_type": "markdown",
   "metadata": {},
   "source": [
    "# Requirements:\n",
    "Requirements can be installed by running the command ./installRequirements.sh\n",
    "\n",
    "# Converting Data:\n",
    "Data first must be converted into MNIST format.\n",
    "\n",
    "We used the repository https://github.com/gskielian/JPG-PNG-to-MNIST-NN-Format with some motifications after the main script would fail\n",
    "\n",
    "Go into the folder JPG-PNG-to-MNIST-NN-Format\n",
    "\n",
    "Data should be put into the folder Jtraining-images and test-images.\n",
    "\n",
    "Next populate the files batches.meta.txt with the names of the training data classes.\n",
    "\n",
    "Next change each training and test images folder name to a number that corresponds to the line number in batches.meta.txt\n",
    "\n",
    "Run the command ./resize-script.sh to resize the images. And finally run python convert-images-to-mnist-format.py to ouput the corresponds gzip files\n",
    "\n",
    "Unzip and move the gzip files by runnning the command ./moveAndUnzip.sh\n",
    "\n",
    "Next go into the tensorflow-triplet-loss folder."
   ]
  },
  {
   "cell_type": "markdown",
   "metadata": {},
   "source": [
    "# Running the Triplet-Loss Network\n",
    "For this we used the repository https://github.com/omoindrot/tensorflow-triplet-loss\n",
    "\n",
    "The triplet loss network has already been modified to accept the Davis 2017 files once converted to MNIST Format. \n",
    "\n",
    "The resize script has already been ran on a partial sample of the Davis 2017 set and that data has been placed in the tensorflow-triplet-loss dir.\n",
    "\n",
    "In the future more of the Davis 2017 dataset will be modified and ran through the network, for proof of concept a portion of the dataset was used for speed.\n",
    "\n",
    "After data is unzipped and brought to the network, running the network with the current modifications is as simple as runnning the following command within the tensorflow-triplet-loss dir\n",
    "\n",
    "Now run python train.py"
   ]
  },
  {
   "cell_type": "markdown",
   "metadata": {},
   "source": [
    "This will yield the following if done correctly: \n",
    "\n",
    "![Result](runtrain.PNG)"
   ]
  }
 ],
 "metadata": {
  "kernelspec": {
   "display_name": "Python 3",
   "language": "python",
   "name": "python3"
  },
  "language_info": {
   "codemirror_mode": {
    "name": "ipython",
    "version": 3
   },
   "file_extension": ".py",
   "mimetype": "text/x-python",
   "name": "python",
   "nbconvert_exporter": "python",
   "pygments_lexer": "ipython3",
   "version": "3.6.6"
  }
 },
 "nbformat": 4,
 "nbformat_minor": 2
}
