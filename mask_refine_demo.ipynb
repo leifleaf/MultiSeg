{
 "cells": [
  {
   "cell_type": "markdown",
   "metadata": {
    "collapsed": true
   },
   "source": [
    "# Mask Refine Demo"
   ]
  },
  {
   "cell_type": "markdown",
   "metadata": {},
   "source": [
    "## Set Up & Configuration"
   ]
  },
  {
   "cell_type": "markdown",
   "metadata": {},
   "source": [
    "First, we'll import the generally required packages:"
   ]
  },
  {
   "cell_type": "code",
   "execution_count": 1,
   "metadata": {},
   "outputs": [
    {
     "name": "stderr",
     "output_type": "stream",
     "text": [
      "C:\\Program Files\\Python36\\lib\\site-packages\\h5py\\__init__.py:36: FutureWarning: Conversion of the second argument of issubdtype from `float` to `np.floating` is deprecated. In future, it will be treated as `np.float64 == np.dtype(float).type`.\n  from ._conv import register_converters as _register_converters\n"
     ]
    },
    {
     "name": "stderr",
     "output_type": "stream",
     "text": [
      "Using TensorFlow backend.\n"
     ]
    }
   ],
   "source": [
    "import imgaug.augmenters as iaa\n",
    "import numpy as np\n",
    "from os.path import exists\n",
    "\n",
    "from mask_refine.mask_refine import MaskRefineSubnet\n",
    "from mask_refine.mask_refine import MaskRefineModule\n",
    "from opt_flow.opt_flow import TensorFlowPWCNet\n",
    "from train.davis2017_dataset import *\n",
    "from train.datautils import splitd\n",
    "from train.viz import *"
   ]
  },
  {
   "cell_type": "markdown",
   "metadata": {},
   "source": [
    "Now, we'll need to define some useful constants and parameters. (Change these to the appropriate numbers for your system and application.)\n",
    "\n",
    "We're also creating the dataset and the generator here."
   ]
  },
  {
   "cell_type": "code",
   "execution_count": null,
   "metadata": {},
   "outputs": [],
   "source": [
    "DATASET_PATH = '../data/DAVIS/'\n",
    "OPTICAL_FLOW_WEIGHTS = './opt_flow/models/pwcnet-lg-6-2-multisteps-chairsthingsmix/pwcnet.ckpt-595000'\n",
    "MASK_REFINE_WEIGHTS = './logs/davis_unet_weights.h5'\n",
    "\n",
    "assert exists(DATASET_PATH), 'Can\\'t find path for dataset'\n",
    "# we don't check the optical flow one, since that is only a 'virtual path' of sorts\n",
    "assert exists(MASK_REFINE_WEIGHTS), 'Can\\'t find path for mask refine model'\n",
    "\n",
    "AUGMENTATION_SEQUENCE = iaa.Sequential([\n",
    "    iaa.Multiply((0.25, 0.95)),\n",
    "    iaa.ElasticTransformation(alpha=(2000, 10000), sigma=(20, 100)),\n",
    "    iaa.GaussianBlur(sigma=(0, 20)),\n",
    "    iaa.Sometimes(0.25, iaa.Multiply((0.5, 0.75))),\n",
    "    iaa.MultiplyElementwise((0.8, 1.1)),\n",
    "    iaa.Sometimes(0.1, iaa.GaussianBlur(sigma=(5, 100))),\n",
    "    iaa.AdditiveGaussianNoise(scale=(1, 25))\n",
    "])\n",
    "\n",
    "DATASET = get_trainval(DATASET_PATH)\n",
    "IMAGE_SHAPE = DATASET.size\n",
    "GENERATOR = DATASET.paired_generator(AUGMENTATION_SEQUENCE)"
   ]
  },
  {
   "cell_type": "markdown",
   "metadata": {},
   "source": [
    "Now, we create the optical flow model, the mask refine subnet, and the overall mask refine module."
   ]
  },
  {
   "cell_type": "code",
   "execution_count": null,
   "metadata": {},
   "outputs": [],
   "source": [
    "pwc_net = TensorFlowPWCNet(IMAGE_SHAPE, model_pathname=OPTICAL_FLOW_WEIGHTS, verbose=True)\n",
    "\n",
    "model_graph = pwc_net.graph\n",
    "\n",
    "with model_graph.as_default():\n",
    "    mr_subnet = MaskRefineSubnet(weights_path=MASK_REFINE_WEIGHTS)\n",
    "    \n",
    "    mr_module = MaskRefineModule(pwc_net, mr_subnet)"
   ]
  },
  {
   "cell_type": "markdown",
   "metadata": {},
   "source": [
    "## Inference (on Random Image Pairs)"
   ]
  },
  {
   "cell_type": "markdown",
   "metadata": {},
   "source": [
    "The following code snippet will run prediction and evaluation for a random image from the dataset."
   ]
  },
  {
   "cell_type": "code",
   "execution_count": 2,
   "metadata": {},
   "outputs": [
    {
     "ename": "NameError",
     "evalue": "name 'GENERATOR' is not defined",
     "traceback": [
      "\u001b[1;31m---------------------------------------------------------------------------\u001b[0m",
      "\u001b[1;31mNameError\u001b[0m                                 Traceback (most recent call last)",
      "\u001b[1;32m<ipython-input-2-2fd56e136f22>\u001b[0m in \u001b[0;36m<module>\u001b[1;34m()\u001b[0m\n\u001b[1;32m----> 1\u001b[1;33m \u001b[0minput_stack\u001b[0m\u001b[1;33m,\u001b[0m \u001b[0mgt_mask\u001b[0m \u001b[1;33m=\u001b[0m \u001b[0mnext\u001b[0m\u001b[1;33m(\u001b[0m\u001b[0mGENERATOR\u001b[0m\u001b[1;33m)\u001b[0m\u001b[1;33m\u001b[0m\u001b[0m\n\u001b[0m\u001b[0;32m      2\u001b[0m \u001b[1;33m\u001b[0m\u001b[0m\n\u001b[0;32m      3\u001b[0m \u001b[0mpred_mask\u001b[0m \u001b[1;33m=\u001b[0m \u001b[0mmr_module\u001b[0m\u001b[1;33m.\u001b[0m\u001b[0mrefine_mask\u001b[0m\u001b[1;33m(\u001b[0m\u001b[0minput_stack\u001b[0m\u001b[1;33m)\u001b[0m\u001b[1;33m\u001b[0m\u001b[0m\n\u001b[0;32m      4\u001b[0m \u001b[1;33m\u001b[0m\u001b[0m\n\u001b[0;32m      5\u001b[0m \u001b[1;31m# shapes of tensors\u001b[0m\u001b[1;33m\u001b[0m\u001b[1;33m\u001b[0m\u001b[0m\n",
      "\u001b[1;31mNameError\u001b[0m: name 'GENERATOR' is not defined"
     ],
     "output_type": "error"
    }
   ],
   "source": [
    "input_stack, gt_mask = next(GENERATOR)\n",
    "\n",
    "with model_graph.as_default():\n",
    "    pred_mask = mr_module.refine_mask(input_stack)\n",
    "    pred_metrics = mr_module.evaluate_mask(input_stack, gt_mask)\n",
    "\n",
    "pred_mask = pred_mask[0, ...]\n",
    "\n",
    "print(f'\\nOUTPUT RESULTS:')\n",
    "for metric, val in zip(mr_module.metrics, pred_metrics):\n",
    "    print(f'\\t{metric}:\\t{val}')\n",
    "    \n",
    "# define the images/masks to be displayed\n",
    "prev_image = input_stack[..., :3]\n",
    "curr_image = input_stack[..., 3:6]\n",
    "trans_mask = input_stack[..., 6].astype(int)\n",
    "pred_mask = pred_mask[..., 0].astype(int)\n",
    "gt_mask = gt_mask[..., 0].astype(int)"
   ]
  },
  {
   "cell_type": "markdown",
   "metadata": {},
   "source": [
    "### Visualizations"
   ]
  },
  {
   "cell_type": "code",
   "execution_count": null,
   "metadata": {},
   "outputs": [],
   "source": [
    "_blank = np.zeros(IMAGE_SHAPE).astype(int)\n",
    "\n",
    "vis_fix_col(prev_image, curr_image,\n",
    "            trans_mask, pred_mask,\n",
    "            _blank, gt_mask,\n",
    "            titles=['prev image', 'curr image',\n",
    "                    'transformed mask', 'predicted mask',\n",
    "                    '(blank)', 'gt mask'])"
   ]
  }
 ],
 "metadata": {
  "kernelspec": {
   "display_name": "Python 2",
   "language": "python",
   "name": "python2"
  },
  "language_info": {
   "codemirror_mode": {
    "name": "ipython",
    "version": 2
   },
   "file_extension": ".py",
   "mimetype": "text/x-python",
   "name": "python",
   "nbconvert_exporter": "python",
   "pygments_lexer": "ipython2",
   "version": "2.7.6"
  }
 },
 "nbformat": 4,
 "nbformat_minor": 0
}
